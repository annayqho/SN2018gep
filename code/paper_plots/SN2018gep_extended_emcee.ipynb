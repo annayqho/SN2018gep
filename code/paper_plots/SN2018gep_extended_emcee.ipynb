{
 "cells": [
  {
   "cell_type": "code",
   "execution_count": 8,
   "metadata": {
    "collapsed": true
   },
   "outputs": [],
   "source": [
    "import matplotlib.pyplot as plt\n",
    "%matplotlib inline\n",
    "import matplotlib as mpl\n",
    "import numpy as np\n",
    "from astropy.io import ascii\n",
    "from scipy.integrate import quad\n",
    "import sys\n",
    "sys.path.append(\"/Users/annaho/Dropbox/Projects/Research/ZTF18abukavn/code\")\n",
    "from load_lc import get_lc\n",
    "import numpy as np\n",
    "from scipy.optimize import curve_fit\n",
    "from scipy.optimize import minimize\n",
    "from scipy.optimize import fmin\n",
    "from scipy.optimize import least_squares\n",
    "import matplotlib.gridspec as gridspec\n",
    "from astropy.cosmology import Planck15\n",
    "import json\n",
    "import math\n",
    "plt.rc('text', usetex=True)\n",
    "plt.rc('font',family='helvetica')"
   ]
  },
  {
   "cell_type": "code",
   "execution_count": 4,
   "metadata": {
    "collapsed": true
   },
   "outputs": [],
   "source": [
    "import emcee\n",
    "import corner"
   ]
  },
  {
   "cell_type": "code",
   "execution_count": 7,
   "metadata": {
    "collapsed": false
   },
   "outputs": [],
   "source": [
    "# get the single-band light curves\n",
    "\n",
    "dt, filt, mag, emag = get_lc()"
   ]
  },
  {
   "cell_type": "code",
   "execution_count": 9,
   "metadata": {
    "collapsed": true
   },
   "outputs": [],
   "source": [
    "kappa=0.2\n",
    "Msol=2*1e33\n",
    "sigmaS=5.67*1e-5\n",
    "D_L=Planck15.luminosity_distance(z=0.03154).cgs.value\n",
    "explEnergy=1E52\n",
    "Mcore=0.23*Msol"
   ]
  },
  {
   "cell_type": "code",
   "execution_count": 10,
   "metadata": {
    "collapsed": true
   },
   "outputs": [],
   "source": [
    "def planckBB(x,T,R,D):\n",
    "    h=6.62e-27\n",
    "    c=3e10\n",
    "    kB=1.38e-16\n",
    "    return np.pi*2*h*c**2/x**5*1/(np.exp(h*c/(x*kB*T))-1)*(R/D)**2/1e8"
   ]
  },
  {
   "cell_type": "code",
   "execution_count": 11,
   "metadata": {
    "collapsed": true
   },
   "outputs": [],
   "source": [
    "def bandFlux(filterFile,T,R,D,redshift):\n",
    "    waves=np.array(filterFile['col1'])/1e8/(1+redshift)\n",
    "    transm=np.array(filterFile['col2'])\n",
    "\n",
    "    fluxes=planckBB(waves,T,R,D)\n",
    "    effFlux=np.sum(fluxes*transm)/np.sum(transm)\n",
    "    return effFlux"
   ]
  },
  {
   "cell_type": "code",
   "execution_count": 12,
   "metadata": {
    "collapsed": true
   },
   "outputs": [],
   "source": [
    "def getBandMag(filterFile,T,R,D,redshift,effWave):\n",
    "    tempBandFlux=bandFlux(filterFile,T,R,D,redshift)\n",
    "    tempBandFluxNu=3.34*10**4*(effWave)**2*tempBandFlux\n",
    "    if tempBandFluxNu<=0:\n",
    "        return 99\n",
    "    return -5/2*np.log10(tempBandFluxNu)+8.90"
   ]
  },
  {
   "cell_type": "code",
   "execution_count": 13,
   "metadata": {
    "collapsed": true
   },
   "outputs": [],
   "source": [
    "def convertMagToFlux(magArray,magErrArray,effWave):\n",
    "    bandFluxLam=np.zeros(len(magArray))\n",
    "    bandFluxLamErr=np.zeros(len(magArray))\n",
    "    for i in range(len(magArray)):\n",
    "        bandFluxNu=10**(-2/5*(magArray[i]-8.90))\n",
    "        bandFluxLam[i]=bandFluxNu/(3.34*10**4*effWave**2)\n",
    "        bandFluxLamErr[i]=magErrArray[i]*bandFluxLam[i]/1.08\n",
    "        \n",
    "    return bandFluxLam, bandFluxLamErr"
   ]
  },
  {
   "cell_type": "code",
   "execution_count": 14,
   "metadata": {
    "collapsed": true
   },
   "outputs": [],
   "source": [
    "def shockModel(t,Me,Re):\n",
    "    lum=[]\n",
    "    R=[]\n",
    "    temp=[]\n",
    "    for i in range(len(t)):\n",
    "        if t[i]<0:\n",
    "            lum.append(0)\n",
    "            R.append(0)\n",
    "            temp.append(0)\n",
    "            \n",
    "        else:\n",
    "            Mc=Mcore\n",
    "            E=explEnergy\n",
    "            ve=1.5*10**9*(E/1e51)**0.5*(Mc/(3*Msol))**(-0.35)*(Me/(0.01*Msol))**(-0.15)\n",
    "            tp=0.9*(kappa/0.34)**0.5*(E/1e51)**(-1/4)*(Mc/Msol)**0.17*(Me/(0.01*Msol))**0.57 * 86400\n",
    "            Ee=1/2*Me*ve**2\n",
    "    \n",
    "            te=Re/ve\n",
    "            lum.append(te*Ee/tp**2*np.exp(-t[i]*(t[i]+2*te)/(2*tp**2)))\n",
    "            #lum.append(8.27*1e42*(kappa/0.34)**(-1)*(ve/1e9)**2*(Re/1e13)*(Mc/Msol)**0.01*np.exp(-4.135*10**(-11)*t[i]*(t[i]*(ve/1e9) + 2*10**4*(Re/1e13))*(kappa/0.34)**(-1)*(Mc/Msol)**0.01*(Me/(0.01*Msol))**(-1)))\n",
    "            R.append(Re+ve*t[i])\n",
    "            temp.append((lum[i]/(sigmaS*4*np.pi*R[i]**2))**(1/4))\n",
    "    \n",
    "    return lum, R, temp"
   ]
  },
  {
   "cell_type": "code",
   "execution_count": 19,
   "metadata": {
    "collapsed": true
   },
   "outputs": [],
   "source": [
    "def computeFluxChiSquare(Me,Re,t0):\n",
    "    chiSquare=0\n",
    "    \n",
    "    timeCutOff = 1.15\n",
    "    \n",
    "    timeArray=detTimes[uw2BandDets[0][np.where(detTimes[uw2BandDets]<timeCutOff)]]*86400\n",
    "    magArray=detMags[uw2BandDets[0][np.where(detTimes[uw2BandDets]<timeCutOff)]]\n",
    "    magErrArray=detErrs[uw2BandDets[0][np.where(detTimes[uw2BandDets]<timeCutOff)]]\n",
    "    effWave=2120\n",
    "    filtObj=filterData[0]\n",
    "    [lumFit,RFit,tempFit]=shockModel(timeArray-t0,Me,Re)\n",
    "    bandF=np.zeros(len(timeArray))\n",
    "    [magFlux,magFluxErr]=convertMagToFlux(magArray,magErrArray,effWave)\n",
    "    \n",
    "    for i in range(len(timeArray)):\n",
    "        if tempFit[i]!=0:\n",
    "            bandF[i]=bandFlux(filtObj,tempFit[i],RFit[i],D_L,redshift)\n",
    "        else:\n",
    "            bandF[i]=99\n",
    "        \n",
    "        chiSquare=chiSquare+(magFlux[i]-bandF[i])**2/magFluxErr[i]**2\n",
    "        #print(magArray[i],bandMag[i],(magArray[i]-bandMag[i])**2)\n",
    "        \n",
    "    timeArray=detTimes[uw1BandDets[0][np.where(detTimes[uw1BandDets]<timeCutOff)]]*86400\n",
    "    magArray=detMags[uw1BandDets[0][np.where(detTimes[uw1BandDets]<timeCutOff)]]\n",
    "    magErrArray=detErrs[uw1BandDets[0][np.where(detTimes[uw1BandDets]<timeCutOff)]]\n",
    "    effWave=2910\n",
    "    filtObj=filterData[1]\n",
    "    [lumFit,RFit,tempFit]=shockModel(timeArray-t0,Me,Re)\n",
    "    bandF=np.zeros(len(timeArray))\n",
    "    [magFlux,magFluxErr]=convertMagToFlux(magArray,magErrArray,effWave)\n",
    "    \n",
    "    for i in range(len(timeArray)):\n",
    "        if tempFit[i]!=0:\n",
    "            bandF[i]=bandFlux(filtObj,tempFit[i],RFit[i],D_L,redshift)\n",
    "        else:\n",
    "            bandF[i]=99\n",
    "            \n",
    "        chiSquare=chiSquare+(magFlux[i]-bandF[i])**2/magFluxErr[i]**2\n",
    "        #print(magArray[i],bandMag[i],(magArray[i]-bandMag[i])**2)\n",
    "     \n",
    "    timeArray=detTimes[gBandDets[0][np.where(detTimes[gBandDets]<timeCutOff)]]*86400\n",
    "    magArray=detMags[gBandDets[0][np.where(detTimes[gBandDets]<timeCutOff)]]\n",
    "    magErrArray=detErrs[gBandDets[0][np.where(detTimes[gBandDets]<timeCutOff)]]\n",
    "    #timeArray=np.append(timeArray,upTimes[gBandUps][-1]*86400)\n",
    "    #magArray=np.append(magArray,upMags[gBandUps][-1])\n",
    "    #magErrArray=np.append(magErrArray,magErrArray[0])\n",
    "    \n",
    "    effWave=4639\n",
    "    filtObj=filterData[2]\n",
    "    [lumFit,RFit,tempFit]=shockModel(timeArray-t0,Me,Re)\n",
    "    bandF=np.zeros(len(timeArray))\n",
    "    \n",
    "    [magFlux,magFluxErr]=convertMagToFlux(magArray,magErrArray,effWave)\n",
    "    \n",
    "    for i in range(len(timeArray)):\n",
    "        if tempFit[i]!=0:\n",
    "            bandF[i]=bandFlux(filtObj,tempFit[i],RFit[i],D_L,redshift)\n",
    "        else:\n",
    "            bandF[i]=99\n",
    "            \n",
    "        chiSquare=chiSquare+(magFlux[i]-bandF[i])**2/magFluxErr[i]**2\n",
    "        #print(magArray[i],bandMag[i],(magArray[i]-bandMag[i])**2)\n",
    "    \n",
    "    timeArray=upTimes[gBandUps][-1]*86400\n",
    "    magArray=upMags[gBandUps][-1]\n",
    "    timeArray=np.append(timeArray,0)\n",
    "    magArray=np.append(magArray,0)\n",
    "    \n",
    "    effWave=4639\n",
    "    filtObj=filterData[2]\n",
    "    [lumFit,RFit,tempFit]=shockModel(timeArray-t0,Me,Re)\n",
    "    [magFlux,magFluxErr]=convertMagToFlux(magArray,magErrArray,effWave)\n",
    "    \n",
    "    if tempFit[0]!=0:\n",
    "        bandFUse=bandFlux(filtObj,tempFit[0],RFit[0],D_L,redshift)\n",
    "        if bandFUse>magFlux[0]:\n",
    "            chiSquare=chiSquare+((magFlux[0]-bandFUse)/magFluxErr[0]*10)**2\n",
    "\n",
    "    timeArray=detTimes[rBandDets[0][np.where(detTimes[rBandDets]<timeCutOff)]]*86400\n",
    "    magArray=detMags[rBandDets[0][np.where(detTimes[rBandDets]<timeCutOff)]]\n",
    "    magErrArray=detErrs[rBandDets[0][np.where(detTimes[rBandDets]<timeCutOff)]]\n",
    "    effWave=6122\n",
    "    filtObj=filterData[3]\n",
    "    [lumFit,RFit,tempFit]=shockModel(timeArray-t0,Me,Re)\n",
    "    bandF=np.zeros(len(timeArray))\n",
    "    \n",
    "    [magFlux,magFluxErr]=convertMagToFlux(magArray,magErrArray,effWave)\n",
    "    \n",
    "    for i in range(len(timeArray)):\n",
    "        if tempFit[i]!=0:\n",
    "            bandF[i]=bandFlux(filtObj,tempFit[i],RFit[i],D_L,redshift)\n",
    "        else:\n",
    "            bandF[i]=99\n",
    "            \n",
    "        chiSquare=chiSquare+(magFlux[i]-bandF[i])**2/magFluxErr[i]**2\n",
    "        #print(magArray[i],bandMag[i],(magArray[i]-bandMag[i])**2)\n",
    "        \n",
    "    timeArray=detTimes[iBandDets[0][np.where(detTimes[iBandDets]<timeCutOff)]]*86400\n",
    "    magArray=detMags[iBandDets[0][np.where(detTimes[iBandDets]<timeCutOff)]]\n",
    "    magErrArray=detErrs[iBandDets[0][np.where(detTimes[iBandDets]<timeCutOff)]]\n",
    "    effWave=7439\n",
    "    filtObj=filterData[4]\n",
    "    [lumFit,RFit,tempFit]=shockModel(timeArray-t0,Me,Re)\n",
    "    bandF=np.zeros(len(timeArray))\n",
    "    \n",
    "    [magFlux,magFluxErr]=convertMagToFlux(magArray,magErrArray,effWave)\n",
    "    \n",
    "    for i in range(len(timeArray)):\n",
    "        if tempFit[i]!=0:\n",
    "            bandF[i]=bandFlux(filtObj,tempFit[i],RFit[i],D_L,redshift)\n",
    "        else:\n",
    "            bandF[i]=99\n",
    "            \n",
    "        chiSquare=chiSquare+(magFlux[i]-bandF[i])**2/magFluxErr[i]**2\n",
    "        #print(magArray[i],bandMag[i],(magArray[i]-bandMag[i])**2)\n",
    "        \n",
    "    timeArray=detTimes[bBandDets[0][np.where(detTimes[bBandDets]<timeCutOff)]]*86400\n",
    "    magArray=detMags[bBandDets[0][np.where(detTimes[bBandDets]<timeCutOff)]]\n",
    "    magErrArray=detErrs[bBandDets[0][np.where(detTimes[bBandDets]<timeCutOff)]]\n",
    "    effWave=4378\n",
    "    filtObj=filterData[5]\n",
    "    [lumFit,RFit,tempFit]=shockModel(timeArray-t0,Me,Re)\n",
    "    bandF=np.zeros(len(timeArray))\n",
    "    \n",
    "    [magFlux,magFluxErr]=convertMagToFlux(magArray,magErrArray,effWave)\n",
    "    \n",
    "    for i in range(len(timeArray)):\n",
    "        if tempFit[i]!=0:\n",
    "            bandF[i]=bandFlux(filtObj,tempFit[i],RFit[i],D_L,redshift)\n",
    "        else:\n",
    "            bandF[i]=99\n",
    "            \n",
    "        chiSquare=chiSquare+(magFlux[i]-bandF[i])**2/magFluxErr[i]**2\n",
    "        #print(magArray[i],bandMag[i],(magArray[i]-bandMag[i])**2)\n",
    "            \n",
    "    return chiSquare"
   ]
  },
  {
   "cell_type": "code",
   "execution_count": 20,
   "metadata": {
    "collapsed": true
   },
   "outputs": [],
   "source": [
    "Me_min=0.001*Msol\n",
    "Me_max=0.02*Msol\n",
    "R_min=5e12\n",
    "R_max=8e13\n",
    "t0_min=-1*86400\n",
    "t0_max=-0.1*86400\n",
    "#ve_min=2e8\n",
    "#ve_max=1e9"
   ]
  },
  {
   "cell_type": "code",
   "execution_count": 21,
   "metadata": {
    "collapsed": true
   },
   "outputs": [],
   "source": [
    "filtFiles=['Swift_UVOT.UVW2.dat','Swift_UVOT.UVW1.dat','SLOAN_SDSS.g.dat','SLOAN_SDSS.r.dat','SLOAN_SDSS.i.dat','Generic_Johnson.B.dat']\n",
    "filterData=[]\n",
    "for i in range(len(filtFiles)):\n",
    "    filterData.append(ascii.read(filtFiles[i]))"
   ]
  },
  {
   "cell_type": "code",
   "execution_count": 22,
   "metadata": {
    "collapsed": false
   },
   "outputs": [],
   "source": [
    "def lnlike(theta):\n",
    "    Me, Re, t0 = theta\n",
    "    return -computeFluxChiSquare(Me, Re, t0)"
   ]
  },
  {
   "cell_type": "code",
   "execution_count": 23,
   "metadata": {
    "collapsed": true
   },
   "outputs": [],
   "source": [
    "def lnprior(theta):\n",
    "    Me, Re, t0 = theta\n",
    "    if Me_min < Me < Me_max and R_min < Re < R_max and t0_min < t0 < t0_max:\n",
    "        return 0.0\n",
    "    return -np.inf"
   ]
  },
  {
   "cell_type": "code",
   "execution_count": 24,
   "metadata": {
    "collapsed": true
   },
   "outputs": [],
   "source": [
    "def lnprob(theta):\n",
    "    lp = lnprior(theta)\n",
    "    if not np.isfinite(lp):\n",
    "        return -np.inf\n",
    "    \n",
    "    return lp + lnlike(theta)"
   ]
  },
  {
   "cell_type": "code",
   "execution_count": 25,
   "metadata": {
    "collapsed": true
   },
   "outputs": [],
   "source": [
    "Me_chiMin = 3e31\n",
    "Re_chiMin = 0.1e14\n",
    "#ve_chiMin = 5e8\n",
    "t0_chiMin = -5e+04"
   ]
  },
  {
   "cell_type": "code",
   "execution_count": 26,
   "metadata": {
    "collapsed": false
   },
   "outputs": [
    {
     "name": "stderr",
     "output_type": "stream",
     "text": [
      "WARNING:root:Too few points to create valid contours\n",
      "WARNING:root:Too few points to create valid contours\n",
      "WARNING:root:Too few points to create valid contours\n"
     ]
    }
   ],
   "source": [
    "ndim, nwalkers = 3, 100\n",
    "pos = [np.array([Me_chiMin, Re_chiMin, t0_chiMin]) + np.array([Me_chiMin, 0, 0])*1e-4*np.random.rand(1) + np.array([0, Re_chiMin, 0])*1e-4*np.random.rand(1) + np.array([0, 0, t0_chiMin])*1e-4*np.random.rand(1) for i in range(nwalkers)]\n",
    "\n",
    "\n",
    "fig = corner.corner(pos, labels=[\"$M_e$\", \"$R_e$\", \"$t_0$\"], plot_contours = False)\n",
    "fig.savefig('cornerPrior_shock.pdf')\n",
    "#fig.close()\n",
    "plt.close()"
   ]
  },
  {
   "cell_type": "code",
   "execution_count": 27,
   "metadata": {
    "collapsed": true
   },
   "outputs": [],
   "source": [
    "sampler = emcee.EnsembleSampler(nwalkers, ndim, lnprob)"
   ]
  },
  {
   "cell_type": "code",
   "execution_count": 28,
   "metadata": {
    "collapsed": false
   },
   "outputs": [
    {
     "name": "stdout",
     "output_type": "stream",
     "text": [
      "emcee: Exception while calling your likelihood function:\n",
      "  params: [ 3.00001581e+31  1.00005589e+13 -5.00044197e+04]\n",
      "  args: []\n",
      "  kwargs: {}\n",
      "  exception:\n"
     ]
    },
    {
     "name": "stderr",
     "output_type": "stream",
     "text": [
      "Traceback (most recent call last):\n",
      "  File \"/Users/annaho/anaconda/lib/python3.5/site-packages/emcee/ensemble.py\", line 519, in __call__\n",
      "    return self.f(x, *self.args, **self.kwargs)\n",
      "  File \"<ipython-input-24-9c002454e316>\", line 6, in lnprob\n",
      "    return lp + lnlike(theta)\n",
      "  File \"<ipython-input-22-fd0a4cde3c89>\", line 3, in lnlike\n",
      "    return -computeFluxChiSquare(Me, Re, t0)\n",
      "  File \"<ipython-input-19-4bfc49656866>\", line 6, in computeFluxChiSquare\n",
      "    timeArray=detTimes[uw2BandDets[0][np.where(detTimes[uw2BandDets]<timeCutOff)]]*86400\n",
      "NameError: name 'detTimes' is not defined\n"
     ]
    },
    {
     "ename": "NameError",
     "evalue": "name 'detTimes' is not defined",
     "output_type": "error",
     "traceback": [
      "\u001b[0;31m---------------------------------------------------------------------------\u001b[0m",
      "\u001b[0;31mNameError\u001b[0m                                 Traceback (most recent call last)",
      "\u001b[0;32m<ipython-input-28-a5d8a0860c70>\u001b[0m in \u001b[0;36m<module>\u001b[0;34m()\u001b[0m\n\u001b[0;32m----> 1\u001b[0;31m \u001b[0msampler\u001b[0m\u001b[0;34m.\u001b[0m\u001b[0mrun_mcmc\u001b[0m\u001b[0;34m(\u001b[0m\u001b[0mpos\u001b[0m\u001b[0;34m,\u001b[0m \u001b[0;36m500\u001b[0m\u001b[0;34m)\u001b[0m\u001b[0;34m\u001b[0m\u001b[0m\n\u001b[0m",
      "\u001b[0;32m/Users/annaho/anaconda/lib/python3.5/site-packages/emcee/sampler.py\u001b[0m in \u001b[0;36mrun_mcmc\u001b[0;34m(self, pos0, N, rstate0, lnprob0, **kwargs)\u001b[0m\n\u001b[1;32m    170\u001b[0m \u001b[0;34m\u001b[0m\u001b[0m\n\u001b[1;32m    171\u001b[0m         for results in self.sample(pos0, lnprob0, rstate0, iterations=N,\n\u001b[0;32m--> 172\u001b[0;31m                                    **kwargs):\n\u001b[0m\u001b[1;32m    173\u001b[0m             \u001b[0;32mpass\u001b[0m\u001b[0;34m\u001b[0m\u001b[0m\n\u001b[1;32m    174\u001b[0m \u001b[0;34m\u001b[0m\u001b[0m\n",
      "\u001b[0;32m/Users/annaho/anaconda/lib/python3.5/site-packages/emcee/ensemble.py\u001b[0m in \u001b[0;36msample\u001b[0;34m(self, p0, lnprob0, rstate0, blobs0, iterations, thin, storechain, mh_proposal)\u001b[0m\n\u001b[1;32m    196\u001b[0m         \u001b[0mblobs\u001b[0m \u001b[0;34m=\u001b[0m \u001b[0mblobs0\u001b[0m\u001b[0;34m\u001b[0m\u001b[0m\n\u001b[1;32m    197\u001b[0m         \u001b[0;32mif\u001b[0m \u001b[0mlnprob\u001b[0m \u001b[0;32mis\u001b[0m \u001b[0;32mNone\u001b[0m\u001b[0;34m:\u001b[0m\u001b[0;34m\u001b[0m\u001b[0m\n\u001b[0;32m--> 198\u001b[0;31m             \u001b[0mlnprob\u001b[0m\u001b[0;34m,\u001b[0m \u001b[0mblobs\u001b[0m \u001b[0;34m=\u001b[0m \u001b[0mself\u001b[0m\u001b[0;34m.\u001b[0m\u001b[0m_get_lnprob\u001b[0m\u001b[0;34m(\u001b[0m\u001b[0mp\u001b[0m\u001b[0;34m)\u001b[0m\u001b[0;34m\u001b[0m\u001b[0m\n\u001b[0m\u001b[1;32m    199\u001b[0m \u001b[0;34m\u001b[0m\u001b[0m\n\u001b[1;32m    200\u001b[0m         \u001b[0;31m# Check to make sure that the probability function didn't return\u001b[0m\u001b[0;34m\u001b[0m\u001b[0;34m\u001b[0m\u001b[0m\n",
      "\u001b[0;32m/Users/annaho/anaconda/lib/python3.5/site-packages/emcee/ensemble.py\u001b[0m in \u001b[0;36m_get_lnprob\u001b[0;34m(self, pos)\u001b[0m\n\u001b[1;32m    380\u001b[0m \u001b[0;34m\u001b[0m\u001b[0m\n\u001b[1;32m    381\u001b[0m         \u001b[0;31m# Run the log-probability calculations (optionally in parallel).\u001b[0m\u001b[0;34m\u001b[0m\u001b[0;34m\u001b[0m\u001b[0m\n\u001b[0;32m--> 382\u001b[0;31m         \u001b[0mresults\u001b[0m \u001b[0;34m=\u001b[0m \u001b[0mlist\u001b[0m\u001b[0;34m(\u001b[0m\u001b[0mM\u001b[0m\u001b[0;34m(\u001b[0m\u001b[0mself\u001b[0m\u001b[0;34m.\u001b[0m\u001b[0mlnprobfn\u001b[0m\u001b[0;34m,\u001b[0m \u001b[0;34m[\u001b[0m\u001b[0mp\u001b[0m\u001b[0;34m[\u001b[0m\u001b[0mi\u001b[0m\u001b[0;34m]\u001b[0m \u001b[0;32mfor\u001b[0m \u001b[0mi\u001b[0m \u001b[0;32min\u001b[0m \u001b[0mrange\u001b[0m\u001b[0;34m(\u001b[0m\u001b[0mlen\u001b[0m\u001b[0;34m(\u001b[0m\u001b[0mp\u001b[0m\u001b[0;34m)\u001b[0m\u001b[0;34m)\u001b[0m\u001b[0;34m]\u001b[0m\u001b[0;34m)\u001b[0m\u001b[0;34m)\u001b[0m\u001b[0;34m\u001b[0m\u001b[0m\n\u001b[0m\u001b[1;32m    383\u001b[0m \u001b[0;34m\u001b[0m\u001b[0m\n\u001b[1;32m    384\u001b[0m         \u001b[0;32mtry\u001b[0m\u001b[0;34m:\u001b[0m\u001b[0;34m\u001b[0m\u001b[0m\n",
      "\u001b[0;32m/Users/annaho/anaconda/lib/python3.5/site-packages/emcee/ensemble.py\u001b[0m in \u001b[0;36m__call__\u001b[0;34m(self, x)\u001b[0m\n\u001b[1;32m    517\u001b[0m     \u001b[0;32mdef\u001b[0m \u001b[0m__call__\u001b[0m\u001b[0;34m(\u001b[0m\u001b[0mself\u001b[0m\u001b[0;34m,\u001b[0m \u001b[0mx\u001b[0m\u001b[0;34m)\u001b[0m\u001b[0;34m:\u001b[0m\u001b[0;34m\u001b[0m\u001b[0m\n\u001b[1;32m    518\u001b[0m         \u001b[0;32mtry\u001b[0m\u001b[0;34m:\u001b[0m\u001b[0;34m\u001b[0m\u001b[0m\n\u001b[0;32m--> 519\u001b[0;31m             \u001b[0;32mreturn\u001b[0m \u001b[0mself\u001b[0m\u001b[0;34m.\u001b[0m\u001b[0mf\u001b[0m\u001b[0;34m(\u001b[0m\u001b[0mx\u001b[0m\u001b[0;34m,\u001b[0m \u001b[0;34m*\u001b[0m\u001b[0mself\u001b[0m\u001b[0;34m.\u001b[0m\u001b[0margs\u001b[0m\u001b[0;34m,\u001b[0m \u001b[0;34m**\u001b[0m\u001b[0mself\u001b[0m\u001b[0;34m.\u001b[0m\u001b[0mkwargs\u001b[0m\u001b[0;34m)\u001b[0m\u001b[0;34m\u001b[0m\u001b[0m\n\u001b[0m\u001b[1;32m    520\u001b[0m         \u001b[0;32mexcept\u001b[0m\u001b[0;34m:\u001b[0m\u001b[0;34m\u001b[0m\u001b[0m\n\u001b[1;32m    521\u001b[0m             \u001b[0;32mimport\u001b[0m \u001b[0mtraceback\u001b[0m\u001b[0;34m\u001b[0m\u001b[0m\n",
      "\u001b[0;32m<ipython-input-24-9c002454e316>\u001b[0m in \u001b[0;36mlnprob\u001b[0;34m(theta)\u001b[0m\n\u001b[1;32m      4\u001b[0m         \u001b[0;32mreturn\u001b[0m \u001b[0;34m-\u001b[0m\u001b[0mnp\u001b[0m\u001b[0;34m.\u001b[0m\u001b[0minf\u001b[0m\u001b[0;34m\u001b[0m\u001b[0m\n\u001b[1;32m      5\u001b[0m \u001b[0;34m\u001b[0m\u001b[0m\n\u001b[0;32m----> 6\u001b[0;31m     \u001b[0;32mreturn\u001b[0m \u001b[0mlp\u001b[0m \u001b[0;34m+\u001b[0m \u001b[0mlnlike\u001b[0m\u001b[0;34m(\u001b[0m\u001b[0mtheta\u001b[0m\u001b[0;34m)\u001b[0m\u001b[0;34m\u001b[0m\u001b[0m\n\u001b[0m",
      "\u001b[0;32m<ipython-input-22-fd0a4cde3c89>\u001b[0m in \u001b[0;36mlnlike\u001b[0;34m(theta)\u001b[0m\n\u001b[1;32m      1\u001b[0m \u001b[0;32mdef\u001b[0m \u001b[0mlnlike\u001b[0m\u001b[0;34m(\u001b[0m\u001b[0mtheta\u001b[0m\u001b[0;34m)\u001b[0m\u001b[0;34m:\u001b[0m\u001b[0;34m\u001b[0m\u001b[0m\n\u001b[1;32m      2\u001b[0m     \u001b[0mMe\u001b[0m\u001b[0;34m,\u001b[0m \u001b[0mRe\u001b[0m\u001b[0;34m,\u001b[0m \u001b[0mt0\u001b[0m \u001b[0;34m=\u001b[0m \u001b[0mtheta\u001b[0m\u001b[0;34m\u001b[0m\u001b[0m\n\u001b[0;32m----> 3\u001b[0;31m     \u001b[0;32mreturn\u001b[0m \u001b[0;34m-\u001b[0m\u001b[0mcomputeFluxChiSquare\u001b[0m\u001b[0;34m(\u001b[0m\u001b[0mMe\u001b[0m\u001b[0;34m,\u001b[0m \u001b[0mRe\u001b[0m\u001b[0;34m,\u001b[0m \u001b[0mt0\u001b[0m\u001b[0;34m)\u001b[0m\u001b[0;34m\u001b[0m\u001b[0m\n\u001b[0m",
      "\u001b[0;32m<ipython-input-19-4bfc49656866>\u001b[0m in \u001b[0;36mcomputeFluxChiSquare\u001b[0;34m(Me, Re, t0)\u001b[0m\n\u001b[1;32m      4\u001b[0m     \u001b[0mtimeCutOff\u001b[0m \u001b[0;34m=\u001b[0m \u001b[0;36m1.15\u001b[0m\u001b[0;34m\u001b[0m\u001b[0m\n\u001b[1;32m      5\u001b[0m \u001b[0;34m\u001b[0m\u001b[0m\n\u001b[0;32m----> 6\u001b[0;31m     \u001b[0mtimeArray\u001b[0m\u001b[0;34m=\u001b[0m\u001b[0mdetTimes\u001b[0m\u001b[0;34m[\u001b[0m\u001b[0muw2BandDets\u001b[0m\u001b[0;34m[\u001b[0m\u001b[0;36m0\u001b[0m\u001b[0;34m]\u001b[0m\u001b[0;34m[\u001b[0m\u001b[0mnp\u001b[0m\u001b[0;34m.\u001b[0m\u001b[0mwhere\u001b[0m\u001b[0;34m(\u001b[0m\u001b[0mdetTimes\u001b[0m\u001b[0;34m[\u001b[0m\u001b[0muw2BandDets\u001b[0m\u001b[0;34m]\u001b[0m\u001b[0;34m<\u001b[0m\u001b[0mtimeCutOff\u001b[0m\u001b[0;34m)\u001b[0m\u001b[0;34m]\u001b[0m\u001b[0;34m]\u001b[0m\u001b[0;34m*\u001b[0m\u001b[0;36m86400\u001b[0m\u001b[0;34m\u001b[0m\u001b[0m\n\u001b[0m\u001b[1;32m      7\u001b[0m     \u001b[0mmagArray\u001b[0m\u001b[0;34m=\u001b[0m\u001b[0mdetMags\u001b[0m\u001b[0;34m[\u001b[0m\u001b[0muw2BandDets\u001b[0m\u001b[0;34m[\u001b[0m\u001b[0;36m0\u001b[0m\u001b[0;34m]\u001b[0m\u001b[0;34m[\u001b[0m\u001b[0mnp\u001b[0m\u001b[0;34m.\u001b[0m\u001b[0mwhere\u001b[0m\u001b[0;34m(\u001b[0m\u001b[0mdetTimes\u001b[0m\u001b[0;34m[\u001b[0m\u001b[0muw2BandDets\u001b[0m\u001b[0;34m]\u001b[0m\u001b[0;34m<\u001b[0m\u001b[0mtimeCutOff\u001b[0m\u001b[0;34m)\u001b[0m\u001b[0;34m]\u001b[0m\u001b[0;34m]\u001b[0m\u001b[0;34m\u001b[0m\u001b[0m\n\u001b[1;32m      8\u001b[0m     \u001b[0mmagErrArray\u001b[0m\u001b[0;34m=\u001b[0m\u001b[0mdetErrs\u001b[0m\u001b[0;34m[\u001b[0m\u001b[0muw2BandDets\u001b[0m\u001b[0;34m[\u001b[0m\u001b[0;36m0\u001b[0m\u001b[0;34m]\u001b[0m\u001b[0;34m[\u001b[0m\u001b[0mnp\u001b[0m\u001b[0;34m.\u001b[0m\u001b[0mwhere\u001b[0m\u001b[0;34m(\u001b[0m\u001b[0mdetTimes\u001b[0m\u001b[0;34m[\u001b[0m\u001b[0muw2BandDets\u001b[0m\u001b[0;34m]\u001b[0m\u001b[0;34m<\u001b[0m\u001b[0mtimeCutOff\u001b[0m\u001b[0;34m)\u001b[0m\u001b[0;34m]\u001b[0m\u001b[0;34m]\u001b[0m\u001b[0;34m\u001b[0m\u001b[0m\n",
      "\u001b[0;31mNameError\u001b[0m: name 'detTimes' is not defined"
     ]
    }
   ],
   "source": [
    "sampler.run_mcmc(pos, 500)"
   ]
  },
  {
   "cell_type": "code",
   "execution_count": 26,
   "metadata": {
    "collapsed": false
   },
   "outputs": [],
   "source": [
    "samples = sampler.chain[:,100:,:].reshape((-1,ndim))"
   ]
  },
  {
   "cell_type": "code",
   "execution_count": 27,
   "metadata": {
    "collapsed": false
   },
   "outputs": [
    {
     "data": {
      "text/plain": [
       "(40000, 3)"
      ]
     },
     "execution_count": 27,
     "metadata": {},
     "output_type": "execute_result"
    }
   ],
   "source": [
    "np.shape(samples)\n"
   ]
  },
  {
   "cell_type": "code",
   "execution_count": 28,
   "metadata": {
    "collapsed": false
   },
   "outputs": [],
   "source": [
    "samples[:,0] /= 2e31\n",
    "samples[:,1] /= 1e14\n",
    "#samples[:,2] /= 1e9\n",
    "samples[:,2] /= 86400"
   ]
  },
  {
   "cell_type": "code",
   "execution_count": 29,
   "metadata": {
    "collapsed": false
   },
   "outputs": [
    {
     "name": "stdout",
     "output_type": "stream",
     "text": [
      "Quantiles:\n",
      "[(0.16, 0.8172864816248235), (0.5, 0.8885252731383655), (0.84, 0.9802656099864695)]\n",
      "Quantiles:\n",
      "[(0.16, 0.27349926994767304), (0.5, 0.30095034675114407), (0.84, 0.3285330352094597)]\n",
      "Quantiles:\n",
      "[(0.16, -0.6245771407306792), (0.5, -0.5825381658755324), (0.84, -0.5418186526619159)]\n"
     ]
    }
   ],
   "source": [
    "fig = corner.corner(samples, labels=[\"$M_e$ (10$^{-2}$ M$_{\\odot}$)\", \"$R_e$ (10$^{14}$ cm)\", \"$t_0$ (days)\"], quantiles = [0.16, 0.5, 0.84], show_titles = True, labels_args={\"fontsize\": 30}, levels=(0.68,0.95), range = [[0.6,1.5],[0.19,0.42],[-0.75,-0.4]], verbose = True)\n",
    "#truths=[Me_chiMin/2e31, Re_chiMin/1e14, t0_chiMin/86400]\n",
    "fig.savefig(\"corner_shock.pdf\")\n",
    "#fig.close()\n",
    "plt.close()"
   ]
  },
  {
   "cell_type": "code",
   "execution_count": 726,
   "metadata": {
    "collapsed": true
   },
   "outputs": [],
   "source": [
    "kappa=0.2\n",
    "Msol=2*1e33\n",
    "sigmaS=5.67*1e-5\n",
    "D_L=284.5*3.08*1e24\n",
    "explEnergy=1.89e50\n",
    "Mcore=0.31*Msol"
   ]
  },
  {
   "cell_type": "code",
   "execution_count": 727,
   "metadata": {
    "collapsed": true
   },
   "outputs": [],
   "source": [
    "sampler2 = emcee.EnsembleSampler(nwalkers, ndim, lnprob)"
   ]
  },
  {
   "cell_type": "code",
   "execution_count": 728,
   "metadata": {
    "collapsed": false
   },
   "outputs": [
    {
     "data": {
      "text/plain": [
       "(array([[ 1.87930202e+31,  2.46380106e+13, -5.18506894e+04],\n",
       "        [ 1.80213842e+31,  2.78806661e+13, -5.14191930e+04],\n",
       "        [ 2.07834714e+31,  2.26394104e+13, -5.74089285e+04],\n",
       "        [ 1.86610393e+31,  2.54712292e+13, -5.38423376e+04],\n",
       "        [ 2.16781917e+31,  2.17665603e+13, -5.93326524e+04],\n",
       "        [ 2.03778436e+31,  2.36573145e+13, -5.58108253e+04],\n",
       "        [ 1.80676160e+31,  2.66009938e+13, -5.27645882e+04],\n",
       "        [ 1.97773625e+31,  2.29831651e+13, -5.58797247e+04],\n",
       "        [ 2.07677015e+31,  2.33660814e+13, -5.72910637e+04],\n",
       "        [ 2.35284653e+31,  2.14125494e+13, -6.00474443e+04],\n",
       "        [ 1.82882726e+31,  2.56703692e+13, -5.39553017e+04],\n",
       "        [ 1.77138604e+31,  2.74130261e+13, -5.10172074e+04],\n",
       "        [ 2.03633796e+31,  2.32355259e+13, -5.65859282e+04],\n",
       "        [ 1.76186210e+31,  2.67720755e+13, -5.17928077e+04],\n",
       "        [ 1.92782511e+31,  2.41257248e+13, -5.57040448e+04],\n",
       "        [ 2.37614236e+31,  2.01230742e+13, -6.08699947e+04],\n",
       "        [ 1.83036506e+31,  2.51877391e+13, -5.12636583e+04],\n",
       "        [ 1.87950952e+31,  2.55201597e+13, -5.31127419e+04],\n",
       "        [ 1.90660949e+31,  2.43856599e+13, -5.49661892e+04],\n",
       "        [ 1.81188533e+31,  2.51267679e+13, -5.30956208e+04],\n",
       "        [ 1.96230144e+31,  2.37029295e+13, -5.56660722e+04],\n",
       "        [ 2.05766265e+31,  2.29638453e+13, -5.74292743e+04],\n",
       "        [ 1.50686669e+31,  3.11162255e+13, -4.53188988e+04],\n",
       "        [ 2.08442261e+31,  2.32041069e+13, -5.75086017e+04],\n",
       "        [ 1.94643991e+31,  2.38505246e+13, -5.58529615e+04],\n",
       "        [ 2.09826246e+31,  2.26147906e+13, -5.73364784e+04],\n",
       "        [ 1.87069736e+31,  2.55846385e+13, -5.21674733e+04],\n",
       "        [ 2.05531765e+31,  2.33057832e+13, -5.69954882e+04],\n",
       "        [ 2.03649483e+31,  2.31137971e+13, -5.70758517e+04],\n",
       "        [ 2.14543120e+31,  2.25571170e+13, -5.68437923e+04],\n",
       "        [ 1.80149588e+31,  2.53317850e+13, -5.16402097e+04],\n",
       "        [ 2.03690549e+31,  2.34515450e+13, -5.66789667e+04],\n",
       "        [ 2.09986696e+31,  2.26209082e+13, -5.40474779e+04],\n",
       "        [ 1.76941954e+31,  2.75833897e+13, -5.14881731e+04],\n",
       "        [ 2.03323912e+31,  2.33784578e+13, -5.66955482e+04],\n",
       "        [ 2.05196773e+31,  2.26882481e+13, -5.75390687e+04],\n",
       "        [ 2.05531011e+31,  2.29033969e+13, -5.72223576e+04],\n",
       "        [ 1.90372195e+31,  2.45460746e+13, -5.42548069e+04],\n",
       "        [ 1.93528805e+31,  2.45712526e+13, -5.54193510e+04],\n",
       "        [ 2.10635310e+31,  2.16127381e+13, -5.92393228e+04],\n",
       "        [ 2.04660881e+31,  2.31526191e+13, -5.49917326e+04],\n",
       "        [ 1.93367868e+31,  2.42030832e+13, -5.45089921e+04],\n",
       "        [ 1.67978699e+31,  2.71130236e+13, -4.88570524e+04],\n",
       "        [ 1.98816306e+31,  2.26398506e+13, -5.59339674e+04],\n",
       "        [ 1.85163157e+31,  2.56808847e+13, -5.08844889e+04],\n",
       "        [ 2.09782269e+31,  2.24909595e+13, -5.67623776e+04],\n",
       "        [ 2.18040970e+31,  2.15243666e+13, -5.88755141e+04],\n",
       "        [ 2.05674278e+31,  2.31376835e+13, -5.65853240e+04],\n",
       "        [ 1.94430102e+31,  2.50983170e+13, -5.43854840e+04],\n",
       "        [ 1.89232224e+31,  2.53785174e+13, -5.33801491e+04],\n",
       "        [ 1.96146821e+31,  2.50043012e+13, -5.46718398e+04],\n",
       "        [ 1.88817422e+31,  2.55867026e+13, -5.32249389e+04],\n",
       "        [ 1.81376734e+31,  2.67746324e+13, -5.29528818e+04],\n",
       "        [ 1.81586092e+31,  2.55944118e+13, -5.21434517e+04],\n",
       "        [ 2.23489110e+31,  2.05464026e+13, -6.07905591e+04],\n",
       "        [ 1.84223901e+31,  2.65512456e+13, -5.12891389e+04],\n",
       "        [ 2.06112725e+31,  2.29396044e+13, -5.74089074e+04],\n",
       "        [ 1.82150488e+31,  2.61171785e+13, -5.27689804e+04],\n",
       "        [ 2.22660993e+31,  2.19403911e+13, -5.79885201e+04],\n",
       "        [ 2.00154412e+31,  2.48734332e+13, -5.52874926e+04],\n",
       "        [ 1.92368830e+31,  2.47020995e+13, -5.34828447e+04],\n",
       "        [ 2.11783853e+31,  2.32547203e+13, -5.74162622e+04],\n",
       "        [ 2.05244732e+31,  2.22636894e+13, -5.58633956e+04],\n",
       "        [ 1.83560270e+31,  2.55081267e+13, -5.34729158e+04],\n",
       "        [ 2.11839553e+31,  2.30881903e+13, -5.77847777e+04],\n",
       "        [ 1.93242434e+31,  2.45129727e+13, -5.35088210e+04],\n",
       "        [ 2.25809808e+31,  2.16974057e+13, -5.86162071e+04],\n",
       "        [ 1.68398520e+31,  2.90473552e+13, -4.94141225e+04],\n",
       "        [ 1.77661728e+31,  2.76343479e+13, -5.13716552e+04],\n",
       "        [ 1.78836330e+31,  2.63495884e+13, -5.12432952e+04],\n",
       "        [ 1.80893049e+31,  2.65962630e+13, -5.21860108e+04],\n",
       "        [ 1.97662184e+31,  2.41124646e+13, -5.41473968e+04],\n",
       "        [ 1.81805795e+31,  2.53746658e+13, -5.28741741e+04],\n",
       "        [ 2.05145372e+31,  2.42189186e+13, -5.58159047e+04],\n",
       "        [ 1.86400199e+31,  2.39369889e+13, -5.21884090e+04],\n",
       "        [ 2.14420055e+31,  2.28431199e+13, -5.75819063e+04],\n",
       "        [ 2.23773612e+31,  2.16630267e+13, -5.93575539e+04],\n",
       "        [ 2.10817497e+31,  2.27909378e+13, -5.68286516e+04],\n",
       "        [ 2.18528024e+31,  2.23177483e+13, -5.82034213e+04],\n",
       "        [ 2.31890966e+31,  2.12042931e+13, -5.85659543e+04],\n",
       "        [ 2.27081564e+31,  2.06214871e+13, -5.96195690e+04],\n",
       "        [ 2.10138863e+31,  2.33348179e+13, -5.61048239e+04],\n",
       "        [ 2.01217222e+31,  2.40922091e+13, -5.59695287e+04],\n",
       "        [ 2.17793139e+31,  2.23266293e+13, -5.82679406e+04],\n",
       "        [ 1.95248660e+31,  2.40020920e+13, -5.36229085e+04],\n",
       "        [ 1.89062747e+31,  2.36135662e+13, -5.41168273e+04],\n",
       "        [ 1.80520323e+31,  2.59768307e+13, -5.24214219e+04],\n",
       "        [ 1.99896769e+31,  2.44677876e+13, -5.55153866e+04],\n",
       "        [ 2.43099088e+31,  1.94083909e+13, -6.21553859e+04],\n",
       "        [ 2.07703524e+31,  2.21917875e+13, -5.78690960e+04],\n",
       "        [ 2.18221453e+31,  2.32007694e+13, -5.75291199e+04],\n",
       "        [ 2.24694531e+31,  2.16510887e+13, -5.84645853e+04],\n",
       "        [ 1.82463491e+31,  2.55477216e+13, -5.23278262e+04],\n",
       "        [ 1.98395400e+31,  2.36887723e+13, -5.62927314e+04],\n",
       "        [ 1.87809761e+31,  2.55689652e+13, -5.29410364e+04],\n",
       "        [ 2.05878926e+31,  2.19875613e+13, -5.75450230e+04],\n",
       "        [ 2.01112571e+31,  2.43523513e+13, -5.58086233e+04],\n",
       "        [ 1.65965937e+31,  2.89000980e+13, -5.02213686e+04],\n",
       "        [ 1.98210095e+31,  2.39846429e+13, -5.49745705e+04],\n",
       "        [ 2.15399620e+31,  2.16127271e+13, -5.88977851e+04]]),\n",
       " array([-63.65175845, -65.92292406, -61.73669358, -61.95984172,\n",
       "        -62.28086641, -62.27790491, -62.54721943, -63.17046709,\n",
       "        -62.79237319, -64.75795556, -62.19944426, -63.82061022,\n",
       "        -61.63101325, -62.95463517, -61.82054066, -64.16766545,\n",
       "        -63.58741437, -62.55941812, -61.99812591, -63.51872691,\n",
       "        -61.92906451, -61.34544007, -67.92120093, -62.9111156 ,\n",
       "        -61.87582815, -61.88946669, -63.24267739, -61.42918415,\n",
       "        -61.43673549, -63.29995955, -63.60606065, -61.45508456,\n",
       "        -66.09936542, -63.71639251, -61.44383578, -61.75627345,\n",
       "        -61.55158314, -62.0907445 , -61.41985234, -63.13773136,\n",
       "        -63.30294736, -62.12036357, -64.83139301, -63.97158889,\n",
       "        -64.15297172, -62.5370961 , -62.39237534, -61.83483048,\n",
       "        -62.62972   , -62.48976638, -62.77189429, -62.71903428,\n",
       "        -64.35737283, -62.8543759 , -63.48668471, -64.62687312,\n",
       "        -61.38228755, -62.40931532, -63.83042571, -63.48345138,\n",
       "        -62.6383115 , -62.55316817, -63.83822393, -62.27344954,\n",
       "        -64.4596696 , -62.72890144, -63.76826942, -65.19072893,\n",
       "        -64.10471323, -63.08545527, -62.8578258 , -62.83975566,\n",
       "        -62.87445052, -63.55648762, -64.98516779, -62.55498349,\n",
       "        -62.28442245, -62.46499932, -62.5622752 , -65.56275696,\n",
       "        -63.82926369, -63.58092007, -61.83285428, -62.30144502,\n",
       "        -63.01272815, -64.54298635, -62.61808382, -62.32637547,\n",
       "        -64.88335834, -62.40257824, -65.03078433, -63.63469901,\n",
       "        -62.73144661, -61.45574116, -62.70771115, -63.64771493,\n",
       "        -62.24935862, -64.62802555, -62.13610666, -62.30861214]),\n",
       " ('MT19937', array([3609891333, 3443168461,  524550836, 3082733493,  380448696,\n",
       "         1762613085,  388795348, 4199096831,  618676226, 2808144953,\n",
       "         4012704361, 2309445367, 2011532467, 1778030552,   68043078,\n",
       "         1389295950, 3097287706,  887641428, 1461654256, 2979456858,\n",
       "         2160403180,  529992719, 4053569383, 2931864730,  992217157,\n",
       "         2546536882, 4099049481, 1375838903, 2658154980, 1809032036,\n",
       "         2213137885, 2564684552, 2533724777,   45243473, 1300384290,\n",
       "         2727874868, 2951813995, 1458424399, 2627149431,  995084248,\n",
       "         3813838539, 3273063990, 1312021117, 2508282675,  823565241,\n",
       "         1907838450, 3567876232, 2989311422, 3130971544, 1895597482,\n",
       "         3446283346,  683648186, 3069357533, 3671338185, 2328403831,\n",
       "         3361778943,  677462078, 1375132876, 1025385562, 1193174421,\n",
       "         2893920891, 3017045315, 4269444554,  767342410, 3400250210,\n",
       "         1686876789, 3984381232, 2394183584, 1059714583,  450517168,\n",
       "          155313989, 3259717053,  640620602, 3592760470, 3322983886,\n",
       "         2114941104, 3864464215,  960696436, 2903070310, 3115414728,\n",
       "         2564030784,  178276848, 2245858591, 3428433921, 3217411726,\n",
       "          515116094, 3737705049, 3906278588, 3480795047,  679061941,\n",
       "         3429196590, 1201503729,  274822114, 4256989235, 1727010863,\n",
       "          817464350, 1990401251, 4144455379, 3475630358, 2206024216,\n",
       "         4008128342,  919138622, 3438620935, 1610991073, 1837079320,\n",
       "         1747205893, 4268819392,  987337557, 1063013240, 1583353927,\n",
       "          115149238, 2910819541,   77507497,  189479792, 3199337861,\n",
       "         2369162216, 1885456723, 3435645919,  136508797, 2601669305,\n",
       "         2304295433, 3388960496, 2795610456, 2080832994, 2490056793,\n",
       "          242085722, 4275188047,  227708517,  722678782,   22665064,\n",
       "         3565558046, 4123479691,  106506823, 1917909026, 1283340094,\n",
       "         4201199102, 2156005750,  874261049, 3197293099,  493506901,\n",
       "         1860491884,  812512434, 3719851688, 2484809463, 2116006688,\n",
       "         1463606585, 3667591907, 1382377075, 3993922997, 1481457179,\n",
       "          709538943, 2612783035,  453845692, 1114852466, 4068326821,\n",
       "         3344845147,  637834910, 3734459380,  175797954,  275714199,\n",
       "         2153106914, 1196803276, 3135041158, 1974985363, 1673209221,\n",
       "         1418442510, 2475685403, 4038625833, 3399547013, 1997267179,\n",
       "         2256603883, 2588380116, 3699357351, 3082092439,   10235488,\n",
       "         1076720092,  485393589, 2208955208, 1305495522, 4193437041,\n",
       "          465121441, 1179036232, 1525301937, 2114739215, 2750950790,\n",
       "         2340474902, 2942275183, 3392733788, 4276194444, 1201609168,\n",
       "         3054503568,  776653467, 4259063471, 3382434476,     222246,\n",
       "         3348493275, 1464447635, 4121426675, 2122403209, 3170640496,\n",
       "          735922925, 1423386230, 1688330641,   80228458, 4225591307,\n",
       "         2457521645, 1105404169, 4043934679,  598541493, 2053778553,\n",
       "         2410508683, 2342638951,   34570909,  535525258,  240588550,\n",
       "         4101053225,   67766684, 4036857378, 1995065064, 2618672568,\n",
       "         3641202155, 1484584299,   16547956, 3277073302,  168698621,\n",
       "          439901827,  856312879, 1264738231, 4228686770, 1611162005,\n",
       "         3161769160,  362072941, 2326666706, 2476931409,  107610296,\n",
       "         1044194733,  472682135, 3741962474, 2040485205,  945904885,\n",
       "          819963562, 1997603297, 1111094144,  266262461, 4005506311,\n",
       "         2878366801, 3803389848, 3421753440, 3815187404, 1083322675,\n",
       "         3276823471, 2942443910, 1809308032, 1349598274, 2524676981,\n",
       "          907539984, 3235977822, 3045924209, 3502237905, 1407699449,\n",
       "          998673224, 3479965051, 1705622988, 2050247790, 3776940669,\n",
       "         3726404157, 2212289998, 2564913612, 2019353017, 1194476494,\n",
       "         3167252605, 1505789134,  757797408, 2673726073, 3271199337,\n",
       "         1091692896, 2646144405, 3757502674, 3299037816, 1531143979,\n",
       "         3375460958,  222292627, 3733863101, 3159111218, 1885361198,\n",
       "         3602028071, 3381510816, 2455513798,   73552618, 2086113481,\n",
       "         2513210828, 3085341112,  744980948, 3458049042, 2771834464,\n",
       "           74128745, 1809082744,  881188840, 1217782616, 1528328434,\n",
       "         2717688887, 1788945979, 1455156465, 3544854471,  718806873,\n",
       "         2783366596, 2889929472, 2159664815, 3289111443, 2671184774,\n",
       "          908953203, 2735873531, 1822801552, 2707904438,  646570086,\n",
       "          668122181, 2253970900, 3622877516, 2908672813, 4187945768,\n",
       "         2087479403, 1399471102,  755232163, 2715343490, 2490263382,\n",
       "         1693627124, 2929049260,  425546550, 1482618645, 1416233931,\n",
       "         2371638284, 2815871355,  605329155, 1413983169, 2121590059,\n",
       "         2306768680, 1442017246, 4133518060,  241604487, 1185798154,\n",
       "           24071427, 1419004064,  655072231,  904694330, 4099672481,\n",
       "          432541782,  325679712, 2522528865, 1183555181, 2977363481,\n",
       "         1501100007, 2720073122, 3458741105, 2754726209, 2952586050,\n",
       "         1058622771, 4053742902,  293959665, 2798122102, 2104812769,\n",
       "         3571551179, 1723506810, 2698749049,  177120224, 4004829046,\n",
       "          559564746, 4279188953, 3722448508, 3211353773, 1760256186,\n",
       "         1097204176, 1569500596,   45099618, 3228750729, 4124514754,\n",
       "         3863102751, 3166411819, 1984163206, 1265728309, 1063210766,\n",
       "         2135292532, 3871853241, 1826595164, 4284477055, 4142822812,\n",
       "         3747434270, 4050309073,  763297856, 2028345512, 1082016516,\n",
       "          369520628, 1499313249, 3233073286, 2962542033,  479951799,\n",
       "         1063679575,  698025613, 1290516531, 2807185685,  382592734,\n",
       "         1577924196,  679881369,  252977577,  996093152, 1451175255,\n",
       "         1275591857, 3320020120, 2477648274, 3706726686, 4224560191,\n",
       "           86462711, 1631896487, 3685429140,  927006828, 3732182179,\n",
       "         4197124144, 2668720388, 3055859694, 4145308169, 3686647549,\n",
       "         1788916788, 3035793249,  935828027,  717396640, 2297841447,\n",
       "          872045262,  470417309,  145121457,  896224805, 1570960183,\n",
       "          870863528, 4053659154,  790630116, 1497327265, 3992342774,\n",
       "          147753447, 1380070603, 4042406364,  413797942, 1446230329,\n",
       "         1251585679, 1625822839,  579539057, 3469984532, 4104340625,\n",
       "          198698630, 2824882331, 3551385218, 3259542014, 1616905521,\n",
       "         2993180056,  364453671, 2579635027,  733526041, 3541127943,\n",
       "          516849893, 3353152226, 3984168379, 1885402319, 1985079818,\n",
       "         3121777164,  582029527, 1832813834, 4032292522, 3427821461,\n",
       "         3808052062, 1605760776, 1259483216, 1714015810, 3564643935,\n",
       "         3887900596, 3156742421, 1154939828, 1256814205, 1102061181,\n",
       "         1591162344, 1618365783, 1215037615, 1447135547, 2474738613,\n",
       "         2250243770, 2407198853,  563186655, 2509595873,  959476166,\n",
       "         2286784867, 1617166383,  869656888, 4207244787, 3708380620,\n",
       "          986915520, 3322517319, 2141760071, 3761029862, 1315208023,\n",
       "          939936946, 2013713183, 1289800539, 2949471196,     861172,\n",
       "           34189954, 2613217207, 3786700185, 2075125900,  293679070,\n",
       "          674330896, 4083915412,   34877608,  751525519,  590740185,\n",
       "         2353999506, 3423184860, 1319071125, 3934120220, 3380256555,\n",
       "         1804375037, 3550275160, 2075516559, 2542390507, 2367256153,\n",
       "         2642195636, 1350664020,  585226260, 4286110392,  556453786,\n",
       "         2969791828,  545139061, 2358785992, 2069735379, 3030635195,\n",
       "         3611161532,  553343328, 4178690342, 3619789309, 1308481250,\n",
       "         3658025499, 4275447745, 1293208164, 3712295914,  689460055,\n",
       "         2945817837, 2939425766, 4028674055,  960107847,  577160967,\n",
       "         3739816488,  704196901, 1362788179, 3871901404, 3528187478,\n",
       "         4007359539,  834336942,  200965641, 3756297098, 1104290912,\n",
       "         1837037314, 1771697294, 3774935149, 4071714426, 4074694442,\n",
       "          742446919,   68121144,  267097830,  825126266,  238609599,\n",
       "         1453181817, 2871715826,  564251384, 2524247715, 1648926002,\n",
       "         2223602503, 2778502883,  353826930,  711051925, 2883261665,\n",
       "         1865616993, 1350934488,  609190098, 2795404749, 3816941121,\n",
       "         2832471507, 2698952704, 2956424194, 1555372550, 3520746138,\n",
       "         3178177943, 1425272871, 2489603210,  943100819, 3613195211,\n",
       "         3833399556, 1875408365, 2580935850, 1423371322, 1259236686,\n",
       "          946693707,  397764105, 3062748727, 3007414711, 1246570419,\n",
       "         2268546136,  850661157, 1646175909,  851968506, 1157117472,\n",
       "         1311663818, 2499852271,  823568447, 2268673132, 1576918081,\n",
       "         3454604628, 3022724705, 3019759663, 2675310667, 2421019946,\n",
       "          967780156,  765198467, 1705667580, 2025120920, 4104375786,\n",
       "         3831288740, 4089422001, 1874457716, 2600927056], dtype=uint32), 136, 0, 0.0))"
      ]
     },
     "execution_count": 728,
     "metadata": {},
     "output_type": "execute_result"
    }
   ],
   "source": [
    "sampler2.run_mcmc(pos, 500)"
   ]
  },
  {
   "cell_type": "code",
   "execution_count": 729,
   "metadata": {
    "collapsed": true
   },
   "outputs": [],
   "source": [
    "samples2 = sampler2.chain[:,100:,:].reshape((-1,ndim))"
   ]
  },
  {
   "cell_type": "code",
   "execution_count": 730,
   "metadata": {
    "collapsed": true
   },
   "outputs": [],
   "source": [
    "samples2[:,0] /= 2e31\n",
    "samples2[:,1] /= 1e14\n",
    "#samples[:,2] /= 1e9\n",
    "samples2[:,2] /= 86400"
   ]
  },
  {
   "cell_type": "code",
   "execution_count": 725,
   "metadata": {
    "collapsed": false
   },
   "outputs": [
    {
     "name": "stdout",
     "output_type": "stream",
     "text": [
      "Quantiles:\n",
      "[(0.16, 0.7559097718781828), (0.5, 0.8179044946853127), (0.84, 0.90089705107474)]\n",
      "Quantiles:\n",
      "[(0.16, 0.3242727486186948), (0.5, 0.3579391662527426), (0.84, 0.38915548454865)]\n",
      "Quantiles:\n",
      "[(0.16, -0.5741929478607761), (0.5, -0.5275463689897384), (0.84, -0.48481287448609817)]\n"
     ]
    }
   ],
   "source": [
    "fig = corner.corner(samples2, labels=[\"$M_e$ (10$^{-2}$ M$_{\\odot}$)\", \"$R_e$ (10$^{14}$ cm)\", \"$t_0$ (days)\"], quantiles = [0.16, 0.5, 0.84], show_titles = True, labels_args={\"fontsize\": 30}, levels=(0.68,0.95), range = [[0.6,1.5],[0.19,0.42],[-0.75,-0.4]], verbose = True)\n",
    "#truths=[Me_chiMin/2e31, Re_chiMin/1e14, t0_chiMin/86400]\n",
    "fig.savefig(\"corner_shockLow.pdf\")\n",
    "#fig.close()\n",
    "plt.close()"
   ]
  },
  {
   "cell_type": "code",
   "execution_count": 731,
   "metadata": {
    "collapsed": false
   },
   "outputs": [
    {
     "name": "stdout",
     "output_type": "stream",
     "text": [
      "Quantiles:\n",
      "[(0.16, 0.9128897455467931), (0.5, 0.9978987023551908), (0.84, 1.094974570945184)]\n",
      "Quantiles:\n",
      "[(0.16, 0.21658684461492397), (0.5, 0.2360298537483949), (0.84, 0.2581364982707984)]\n",
      "Quantiles:\n",
      "[(0.16, -0.6793100861166556), (0.5, -0.6432836791557692), (0.84, -0.6047462440337497)]\n"
     ]
    }
   ],
   "source": [
    "fig = corner.corner(samples2, labels=[\"$M_e$ (10$^{-2}$ M$_{\\odot}$)\", \"$R_e$ (10$^{14}$ cm)\", \"$t_0$ (days)\"], quantiles = [0.16, 0.5, 0.84], show_titles = True, labels_args={\"fontsize\": 30}, levels=(0.68,0.95), range = [[0.6,1.5],[0.19,0.42],[-0.75,-0.4]], verbose = True)\n",
    "#truths=[Me_chiMin/2e31, Re_chiMin/1e14, t0_chiMin/86400]\n",
    "fig.savefig(\"corner_shockHigh.pdf\")\n",
    "#fig.close()\n",
    "plt.close()"
   ]
  },
  {
   "cell_type": "code",
   "execution_count": null,
   "metadata": {
    "collapsed": true
   },
   "outputs": [],
   "source": []
  }
 ],
 "metadata": {
  "kernelspec": {
   "display_name": "Python 3",
   "language": "python",
   "name": "python3"
  },
  "language_info": {
   "codemirror_mode": {
    "name": "ipython",
    "version": 3
   },
   "file_extension": ".py",
   "mimetype": "text/x-python",
   "name": "python",
   "nbconvert_exporter": "python",
   "pygments_lexer": "ipython3",
   "version": "3.5.6"
  }
 },
 "nbformat": 4,
 "nbformat_minor": 2
}
